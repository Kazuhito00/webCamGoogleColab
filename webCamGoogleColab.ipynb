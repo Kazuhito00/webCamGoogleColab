{
  "nbformat": 4,
  "nbformat_minor": 0,
  "metadata": {
    "colab": {
      "name": "webCamGoogleColab.ipynb",
      "provenance": [],
      "collapsed_sections": [],
      "authorship_tag": "ABX9TyPOnab2PkS75cCReEOxk621",
      "include_colab_link": true
    },
    "kernelspec": {
      "name": "python3",
      "display_name": "Python 3"
    }
  },
  "cells": [
    {
      "cell_type": "markdown",
      "metadata": {
        "id": "view-in-github",
        "colab_type": "text"
      },
      "source": [
        "<a href=\"https://colab.research.google.com/github/a2kiti/webCamGoogleColab/blob/master/webCamGoogleColab.ipynb\" target=\"_parent\"><img src=\"https://colab.research.google.com/assets/colab-badge.svg\" alt=\"Open In Colab\"/></a>"
      ]
    },
    {
      "cell_type": "markdown",
      "metadata": {
        "id": "9duzzorgTWLt",
        "colab_type": "text"
      },
      "source": [
        "# Use web camera on google colaboratory"
      ]
    },
    {
      "cell_type": "markdown",
      "metadata": {
        "id": "XSCwu0RL9AvH",
        "colab_type": "text"
      },
      "source": [
        "## Install Ngrok and websocket"
      ]
    },
    {
      "cell_type": "code",
      "metadata": {
        "id": "XadNYjWOJ1cw",
        "colab_type": "code",
        "colab": {}
      },
      "source": [
        "!wget https://bin.equinox.io/c/4VmDzA7iaHb/ngrok-stable-linux-amd64.zip\n",
        "!unzip ngrok-stable-linux-amd64.zip\n",
        "!pip install bottle\n",
        "!pip install bottle_websocket\n",
        "!pip install gevent"
      ],
      "execution_count": 0,
      "outputs": []
    },
    {
      "cell_type": "markdown",
      "metadata": {
        "id": "pQkCGs6u9Lbt",
        "colab_type": "text"
      },
      "source": [
        "## Java script for web camera"
      ]
    },
    {
      "cell_type": "code",
      "metadata": {
        "id": "Nz6ugi6mJ8EZ",
        "colab_type": "code",
        "colab": {}
      },
      "source": [
        "from IPython.display import display, Javascript\n",
        "from google.colab.output import eval_js\n",
        "\n",
        "def use_cam(url, quality=0.8):\n",
        "  print(\"start camera\")\n",
        "  js = Javascript('''\n",
        "    async function useCam(url, quality) {\n",
        "      const div = document.createElement('div');\n",
        "      document.body.appendChild(div);\n",
        "      //video element\n",
        "      const video = document.createElement('video');\n",
        "      video.style.display = 'None';\n",
        "      const stream = await navigator.mediaDevices.getUserMedia({video: true});\n",
        "      div.appendChild(video);\n",
        "      video.srcObject = stream;\n",
        "      await video.play();\n",
        "      \n",
        "      //canvas for display. frame rate is depending on display size and jpeg quality.\n",
        "      display_size = 500 \n",
        "      const src_canvas = document.createElement('canvas');\n",
        "      src_canvas.width  = display_size;\n",
        "      src_canvas.height = display_size * video.videoHeight / video.videoWidth;\n",
        "      const src_canvasCtx = src_canvas.getContext('2d');\n",
        "      src_canvasCtx.translate(src_canvas.width, 0);\n",
        "      src_canvasCtx.scale(-1, 1);\n",
        "      div.appendChild(src_canvas);\n",
        "\n",
        "      const dst_canvas = document.createElement('canvas');\n",
        "      dst_canvas.width  = src_canvas.width;\n",
        "      dst_canvas.height = src_canvas.height;\n",
        "      const dst_canvasCtx = dst_canvas.getContext('2d');\n",
        "      div.appendChild(dst_canvas);\n",
        "      \n",
        "      //exit button\n",
        "      const btn_div = document.createElement('div');\n",
        "      document.body.appendChild(btn_div);\n",
        "      const exit_btn = document.createElement('button');\n",
        "      exit_btn.textContent = 'Exit';\n",
        "      var exit_flg = true\n",
        "      exit_btn.onclick = function() {exit_flg = false};\n",
        "      btn_div.appendChild(exit_btn);\n",
        "\n",
        "      //log\n",
        "      let jsLog = function(abc) {\n",
        "        document.querySelector(\"#output-area\").appendChild(document.createTextNode(`${abc} `));\n",
        "      }\n",
        "      // Resize the output to fit the video element.\n",
        "      google.colab.output.setIframeHeight(document.documentElement.scrollHeight, true);\n",
        "      \n",
        "      //for websocket connection.\n",
        "      var connection = 0\n",
        "      var flag_count = 0\n",
        "      var send_flg = false\n",
        "\n",
        "      // loop\n",
        "      _canvasUpdate();\n",
        "      async function _canvasUpdate() {\n",
        "            flag_count += 1\n",
        "            \n",
        "            //wait until websocket launch\n",
        "            if (flag_count == 100){\n",
        "                connection = new WebSocket(url); \n",
        "                jsLog(\"Connect_start\")\n",
        "            }\n",
        "            if (flag_count == 200){\n",
        "                connection.onmessage = function(e) {\n",
        "                    var image = new Image()\n",
        "                    image.src = e.data;\n",
        "                    image.onload = function(){dst_canvasCtx.drawImage(image, 0, 0)}\n",
        "                    send_flg=false\n",
        "                };\n",
        "                jsLog(\"Set_recieve\")\n",
        "            }\n",
        "            if(flag_count > 300){\n",
        "                //resize to reduce file size\n",
        "                src_canvasCtx.drawImage(video, 0, 0, video.videoWidth, video.videoHeight, 0, 0, src_canvas.width, src_canvas.height);\n",
        "                const img = src_canvas.toDataURL('image/jpeg', quality);\n",
        "                if (send_flg==false){\n",
        "                    connection.send(img);\n",
        "                    send_flg = true\n",
        "                }\n",
        "            }\n",
        "          if (exit_flg){\n",
        "              requestAnimationFrame(_canvasUpdate);   \n",
        "          }else{\n",
        "              stream.getVideoTracks()[0].stop();\n",
        "              connection.close();\n",
        "          }\n",
        "      };\n",
        "    }\n",
        "    ''')\n",
        "  display(js)\n",
        "  data = eval_js('useCam(\"{}\", {})'.format(url, quality))"
      ],
      "execution_count": 0,
      "outputs": []
    },
    {
      "cell_type": "markdown",
      "metadata": {
        "id": "crkCWOCx_yyj",
        "colab_type": "text"
      },
      "source": [
        "## Launch Ngrok"
      ]
    },
    {
      "cell_type": "code",
      "metadata": {
        "id": "njz9VkLnJ8BX",
        "colab_type": "code",
        "outputId": "9fcd15db-530d-4184-9e7e-cb0919b950c7",
        "colab": {
          "base_uri": "https://localhost:8080/",
          "height": 34
        }
      },
      "source": [
        "get_ipython().system_raw('./ngrok http 6006 &')\n",
        "! curl -s http://localhost:4040/api/tunnels | python3 -c \\\n",
        "    \"import sys, json;url = json.load(sys.stdin)['tunnels'][0]['public_url'];print(url);f = open('url.txt', 'w');f.write(url);f.close()\""
      ],
      "execution_count": 3,
      "outputs": [
        {
          "output_type": "stream",
          "text": [
            "https://3f9d6e24.ngrok.io\n"
          ],
          "name": "stdout"
        }
      ]
    },
    {
      "cell_type": "markdown",
      "metadata": {
        "id": "ygBSdEL0SYnq",
        "colab_type": "text"
      },
      "source": [
        "## Start"
      ]
    },
    {
      "cell_type": "code",
      "metadata": {
        "id": "g8qFmqu1J7-j",
        "colab_type": "code",
        "colab": {}
      },
      "source": [
        "import numpy as np\n",
        "import cv2\n",
        "import json\n",
        "import bottle\n",
        "import gevent\n",
        "from bottle.ext.websocket import GeventWebSocketServer\n",
        "from bottle.ext.websocket import websocket\n",
        "from multiprocessing import Pool\n",
        "from PIL import Image\n",
        "from io import BytesIO\n",
        "import base64\n",
        "\n",
        "socket = bottle.Bottle()\n",
        "@socket.route('/', apply=[websocket])\n",
        "def wsbin(ws):\n",
        "    while True:\n",
        "        try:\n",
        "            #decode to image\n",
        "            img_str = ws.receive()\n",
        "            decimg = base64.b64decode(img_str.split(',')[1], validate=True)\n",
        "            decimg = Image.open(BytesIO(decimg))\n",
        "            decimg = np.array(decimg, dtype=np.uint8); \n",
        "            decimg = cv2.cvtColor(decimg, cv2.COLOR_BGR2RGB)\n",
        "            \n",
        "            #############your process###############\n",
        "            \n",
        "            out_img = cv2.Canny(decimg,100,200)\n",
        "            #out_img = decimg\n",
        "            \n",
        "            #############your process###############\n",
        "        \n",
        "            #encode to string\n",
        "            _, encimg = cv2.imencode(\".jpg\", out_img, [int(cv2.IMWRITE_JPEG_QUALITY), 80])\n",
        "            img_str = encimg.tostring()\n",
        "            img_str = \"data:image/jpeg;base64,\" + base64.b64encode(img_str).decode('utf-8')\n",
        "            ws.send(img_str)\n",
        "        except:\n",
        "            pass\n",
        "            #print(\"error\")\n",
        "\n",
        "if __name__ == '__main__':\n",
        "    # get ngrok url\n",
        "    f = open(\"url.txt\", \"r\")\n",
        "    url = f.read()\n",
        "    f.close()\n",
        "    url = \"wss\" + url[5:]\n",
        "    # prepare multiprocess\n",
        "    _pool = Pool(processes=2)\n",
        "    _pool.apply_async(use_cam, (url, 0.8))\n",
        "    socket.run(host='0.0.0.0', port=6006, server=GeventWebSocketServer)\n",
        "   "
      ],
      "execution_count": 0,
      "outputs": []
    },
    {
      "cell_type": "code",
      "metadata": {
        "id": "WzvBOCeSQe-n",
        "colab_type": "code",
        "colab": {}
      },
      "source": [
        ""
      ],
      "execution_count": 0,
      "outputs": []
    }
  ]
}